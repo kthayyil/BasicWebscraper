{
 "cells": [
  {
   "cell_type": "code",
   "execution_count": 155,
   "id": "1a075568",
   "metadata": {},
   "outputs": [
    {
     "data": {
      "text/plain": [
       "<Response [200]>"
      ]
     },
     "execution_count": 155,
     "metadata": {},
     "output_type": "execute_result"
    }
   ],
   "source": [
    "import requests \n",
    "from bs4 import BeautifulSoup\n",
    "comic_dictionary = {2000:[]}\n",
    "\n",
    "comic_index = 2067 \n",
    "base_url = \"https://xkcd.com/\" + str(comic_index) + '/'\n",
    "page = requests.get(base_url)\n",
    "page\n",
    "# page.status_code\n",
    "# page.content"
   ]
  },
  {
   "cell_type": "code",
   "execution_count": 156,
   "id": "2c0bfb94",
   "metadata": {},
   "outputs": [],
   "source": [
    "soup = BeautifulSoup(page.content, 'html.parser')\n",
    "# print(soup.prettify())"
   ]
  },
  {
   "cell_type": "code",
   "execution_count": 157,
   "id": "5180e5d6",
   "metadata": {},
   "outputs": [],
   "source": [
    "# list(soup.children)\n",
    "# [type(item) for item in list(soup.children)]"
   ]
  },
  {
   "cell_type": "code",
   "execution_count": 158,
   "id": "eb7837ac",
   "metadata": {},
   "outputs": [
    {
     "data": {
      "text/plain": [
       "[<div id=\"comic\">\n",
       " <img src=\"/2067/asset/challengers_header.png\" srcset=\"/2067/asset/challengers_header_2x.png 2x\"/><img alt=\"Challengers\" id=\"comic-content\" src=\"//imgs.xkcd.com/comics/challengers.png\" srcset=\"//imgs.xkcd.com/comics/challengers_2x.png 2x\" style=\"image-orientation:none\" title=\"Use your mouse or fingers to pan + zoom. To edit the map, submit your ballot on November 6th.\">\n",
       " <img src=\"/2067/asset/challengers_footer.png\" srcset=\"/2067/asset/challengers_footer_2x.png 2x\"/>\n",
       " <script src=\"https://xkcd.com/2067/asset/comic.js\"></script>\n",
       " </img></div>]"
      ]
     },
     "execution_count": 158,
     "metadata": {},
     "output_type": "execute_result"
    }
   ],
   "source": [
    "comic = list(soup.find_all(id=\"comic\")) \n",
    "comic"
   ]
  },
  {
   "cell_type": "code",
   "execution_count": 159,
   "id": "c9fdc48e",
   "metadata": {},
   "outputs": [
    {
     "name": "stdout",
     "output_type": "stream",
     "text": [
      "https://xkcd.com/2067/\n"
     ]
    }
   ],
   "source": [
    "print (base_url)"
   ]
  },
  {
   "cell_type": "code",
   "execution_count": 160,
   "id": "a50d5e1d",
   "metadata": {},
   "outputs": [
    {
     "ename": "IndexError",
     "evalue": "list index out of range",
     "output_type": "error",
     "traceback": [
      "\u001b[0;31m---------------------------------------------------------------------------\u001b[0m",
      "\u001b[0;31mIndexError\u001b[0m                                Traceback (most recent call last)",
      "\u001b[0;32m/tmp/ipykernel_14636/3585915999.py\u001b[0m in \u001b[0;36m<module>\u001b[0;34m\u001b[0m\n\u001b[1;32m      1\u001b[0m \u001b[0mcomic_title\u001b[0m \u001b[0;34m=\u001b[0m \u001b[0mstr\u001b[0m\u001b[0;34m(\u001b[0m\u001b[0mcomic\u001b[0m\u001b[0;34m[\u001b[0m\u001b[0;36m0\u001b[0m\u001b[0;34m]\u001b[0m\u001b[0;34m)\u001b[0m\u001b[0;34m\u001b[0m\u001b[0;34m\u001b[0m\u001b[0m\n\u001b[1;32m      2\u001b[0m \u001b[0mcomic_title\u001b[0m \u001b[0;34m=\u001b[0m \u001b[0mcomic_title\u001b[0m\u001b[0;34m.\u001b[0m\u001b[0msplit\u001b[0m\u001b[0;34m(\u001b[0m\u001b[0msep\u001b[0m \u001b[0;34m=\u001b[0m \u001b[0;34m\"src\"\u001b[0m\u001b[0;34m)\u001b[0m\u001b[0;34m[\u001b[0m\u001b[0;36m0\u001b[0m\u001b[0;34m]\u001b[0m\u001b[0;34m\u001b[0m\u001b[0;34m\u001b[0m\u001b[0m\n\u001b[0;32m----> 3\u001b[0;31m \u001b[0mcomic_title\u001b[0m \u001b[0;34m=\u001b[0m \u001b[0mcomic_title\u001b[0m\u001b[0;34m.\u001b[0m\u001b[0msplit\u001b[0m\u001b[0;34m(\u001b[0m\u001b[0msep\u001b[0m \u001b[0;34m=\u001b[0m \u001b[0;34m\"alt\"\u001b[0m\u001b[0;34m)\u001b[0m\u001b[0;34m[\u001b[0m\u001b[0;36m1\u001b[0m\u001b[0;34m]\u001b[0m\u001b[0;34m\u001b[0m\u001b[0;34m\u001b[0m\u001b[0m\n\u001b[0m\u001b[1;32m      4\u001b[0m \u001b[0;34m\u001b[0m\u001b[0m\n\u001b[1;32m      5\u001b[0m \u001b[0mcomic_title\u001b[0m \u001b[0;34m=\u001b[0m \u001b[0mcomic_title\u001b[0m\u001b[0;34m[\u001b[0m\u001b[0;36m2\u001b[0m\u001b[0;34m:\u001b[0m\u001b[0mlen\u001b[0m\u001b[0;34m(\u001b[0m\u001b[0mcomic_title\u001b[0m\u001b[0;34m)\u001b[0m\u001b[0;34m-\u001b[0m\u001b[0;36m2\u001b[0m\u001b[0;34m]\u001b[0m\u001b[0;34m\u001b[0m\u001b[0;34m\u001b[0m\u001b[0m\n",
      "\u001b[0;31mIndexError\u001b[0m: list index out of range"
     ]
    }
   ],
   "source": [
    "comic_title = str(comic[0])\n",
    "comic_title = comic_title.split(sep = \"src\")[0]\n",
    "comic_title = comic_title.split(sep = \"alt\")[1]\n",
    "\n",
    "comic_title = comic_title[2:len(comic_title)-2]\n",
    "print (comic_title)"
   ]
  },
  {
   "cell_type": "code",
   "execution_count": 144,
   "id": "38c91f8a",
   "metadata": {},
   "outputs": [
    {
     "name": "stdout",
     "output_type": "stream",
     "text": [
      "Our retina display features hundreds of pixels per inch in the central fovea region.\n"
     ]
    }
   ],
   "source": [
    "comic_alt = str(comic[0])\n",
    "comic_alt = comic_alt.split(sep = \"src\")[2]\n",
    "# print (comic_alt)\n",
    "comic_alt = comic_alt.split(sep = \"title\")[1]\n",
    "\n",
    "comic_alt = comic_alt[2:len(comic_alt)-15]\n",
    "print (comic_alt)"
   ]
  },
  {
   "cell_type": "code",
   "execution_count": 145,
   "id": "55e6c311",
   "metadata": {},
   "outputs": [
    {
     "name": "stdout",
     "output_type": "stream",
     "text": [
      "http://imgs.xkcd.com/comics/xkcd_phone_2000.png\n"
     ]
    }
   ],
   "source": [
    "comic_url_src = str(comic[0])\n",
    "comic_url_src = comic_url_src.split(sep = \"src\")[1]\n",
    "\n",
    "comic_url_src = \"http://\" + comic_url_src[4:len(comic_url_src)-2]\n",
    "print (comic_url_src)"
   ]
  },
  {
   "cell_type": "code",
   "execution_count": 153,
   "id": "dcbade51",
   "metadata": {},
   "outputs": [],
   "source": [
    "comic_dictionary[comic_index] = [base_url, comic_title, comic_alt, comic_url_src]"
   ]
  },
  {
   "cell_type": "code",
   "execution_count": 154,
   "id": "919c8142",
   "metadata": {},
   "outputs": [
    {
     "data": {
      "text/plain": [
       "['https://xkcd.com/2000/',\n",
       " 'xkcd Phone 2000',\n",
       " 'Our retina display features hundreds of pixels per inch in the central fovea region.',\n",
       " 'http://imgs.xkcd.com/comics/xkcd_phone_2000.png']"
      ]
     },
     "execution_count": 154,
     "metadata": {},
     "output_type": "execute_result"
    }
   ],
   "source": [
    "comic_dictionary[comic_index]"
   ]
  },
  {
   "cell_type": "code",
   "execution_count": null,
   "id": "dcedc0d6",
   "metadata": {},
   "outputs": [],
   "source": []
  }
 ],
 "metadata": {
  "kernelspec": {
   "display_name": "Python 3 (ipykernel)",
   "language": "python",
   "name": "python3"
  },
  "language_info": {
   "codemirror_mode": {
    "name": "ipython",
    "version": 3
   },
   "file_extension": ".py",
   "mimetype": "text/x-python",
   "name": "python",
   "nbconvert_exporter": "python",
   "pygments_lexer": "ipython3",
   "version": "3.7.3"
  }
 },
 "nbformat": 4,
 "nbformat_minor": 5
}
